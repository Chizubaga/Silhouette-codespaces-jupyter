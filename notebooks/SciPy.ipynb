{
 "cells": [
  {
   "cell_type": "code",
   "execution_count": 1,
   "metadata": {},
   "outputs": [
    {
     "name": "stdout",
     "output_type": "stream",
     "text": [
      "Requirement already satisfied: scipy in /home/codespace/.local/lib/python3.10/site-packages (1.10.1)\n",
      "Requirement already satisfied: numpy<1.27.0,>=1.19.5 in /usr/local/python/3.10.4/lib/python3.10/site-packages (from scipy) (1.24.2)\n",
      "Note: you may need to restart the kernel to use updated packages.\n"
     ]
    }
   ],
   "source": [
    "pip install scipy"
   ]
  },
  {
   "cell_type": "code",
   "execution_count": 2,
   "metadata": {},
   "outputs": [],
   "source": [
    "from scipy import special as sp"
   ]
  },
  {
   "cell_type": "code",
   "execution_count": 3,
   "metadata": {},
   "outputs": [
    {
     "name": "stdout",
     "output_type": "stream",
     "text": [
      "1000.0\n",
      "64.0\n"
     ]
    }
   ],
   "source": [
    "#exponential function\n",
    "a=sp.exp10(3)\n",
    "print(a)\n",
    "b=sp.exp2(6)\n",
    "print(b)"
   ]
  },
  {
   "cell_type": "code",
   "execution_count": 4,
   "metadata": {},
   "outputs": [
    {
     "name": "stdout",
     "output_type": "stream",
     "text": [
      "1.0\n",
      "-0.0\n"
     ]
    }
   ],
   "source": [
    "c=sp.sindg(90)\n",
    "print(c)\n",
    "\n",
    "d=sp.cosdg(90)\n",
    "print(d)"
   ]
  },
  {
   "cell_type": "code",
   "execution_count": 5,
   "metadata": {},
   "outputs": [
    {
     "name": "stdout",
     "output_type": "stream",
     "text": [
      "0.5267500645255109\n"
     ]
    }
   ],
   "source": [
    "d=30\n",
    "m=10\n",
    "s=50\n",
    "d=sp.radian(d,m,s)\n",
    "print(d)"
   ]
  },
  {
   "cell_type": "code",
   "execution_count": 6,
   "metadata": {},
   "outputs": [
    {
     "name": "stdout",
     "output_type": "stream",
     "text": [
      "720\n"
     ]
    }
   ],
   "source": [
    "#permutation fuction\n",
    "#permutation of N things where K things taken at a time..i.e. K permutation of N\n",
    "p=sp.perm(10,3,exact=True) #exact true will return int value\n",
    "print(p)\n"
   ]
  },
  {
   "cell_type": "code",
   "execution_count": 7,
   "metadata": {},
   "outputs": [
    {
     "name": "stdout",
     "output_type": "stream",
     "text": [
      "[  720. 95040.]\n"
     ]
    }
   ],
   "source": [
    "import numpy as np\n",
    "a=np.array([3,5])\n",
    "b=np.array([10,12])\n",
    "x=sp.perm(b,a)\n",
    "print(x)\n"
   ]
  },
  {
   "cell_type": "code",
   "execution_count": 8,
   "metadata": {},
   "outputs": [
    {
     "name": "stdout",
     "output_type": "stream",
     "text": [
      "120\n"
     ]
    }
   ],
   "source": [
    "#combination function\n",
    "c=sp.comb(10,3,exact=True)\n",
    "print(c)\n"
   ]
  },
  {
   "cell_type": "code",
   "execution_count": 9,
   "metadata": {},
   "outputs": [],
   "source": [
    "from scipy import integrate as igt"
   ]
  },
  {
   "cell_type": "code",
   "execution_count": 10,
   "metadata": {},
   "outputs": [
    {
     "name": "stdout",
     "output_type": "stream",
     "text": [
      "(3.7500000000000004, 4.1633363423443377e-14)\n"
     ]
    }
   ],
   "source": [
    "#single integration\n",
    "f=lambda x:x**3\n",
    "i=igt.quad(f,1,2)# quad(function,lower-lim,upper-lim)\n",
    "print(i)\n",
    "#final result contains integration result and error in the result"
   ]
  },
  {
   "cell_type": "code",
   "execution_count": 11,
   "metadata": {},
   "outputs": [
    {
     "name": "stdout",
     "output_type": "stream",
     "text": [
      "(0.010416666666666668, 4.101620128472366e-16)\n"
     ]
    }
   ],
   "source": [
    "#double intgration\n",
    "#dblquad(function,outer_low-lim,outer_upr-lim,inner_low-lim:fun1,inner_upr-lim:fun2)\n",
    "a=igt.dblquad(lambda x,y:x*y,0,0.5,lambda x:0,lambda x:1-2*x)\n",
    "print(a)\n"
   ]
  },
  {
   "cell_type": "code",
   "execution_count": 12,
   "metadata": {},
   "outputs": [
    {
     "name": "stdout",
     "output_type": "stream",
     "text": [
      "   2\n",
      "3 x + 6 x + 8\n"
     ]
    }
   ],
   "source": [
    "#polynomial function\n",
    "#ax**2+bx+c\n",
    "from numpy import poly1d\n",
    "p=poly1d([3,6,8])#it will decide the order of polynomial by the \n",
    " #number of constant\n",
    "print(p)"
   ]
  },
  {
   "cell_type": "code",
   "execution_count": 13,
   "metadata": {},
   "outputs": [
    {
     "name": "stdout",
     "output_type": "stream",
     "text": [
      "   3     2\n",
      "4 x + 5 x + 8\n"
     ]
    }
   ],
   "source": [
    "\n",
    "p=poly1d([4,5,0,8])\n",
    "print(p)\n"
   ]
  },
  {
   "cell_type": "code",
   "execution_count": 14,
   "metadata": {},
   "outputs": [
    {
     "name": "stdout",
     "output_type": "stream",
     "text": [
      "   3     2\n",
      "4 y + 5 y + 7 y + 8\n"
     ]
    }
   ],
   "source": [
    "p=poly1d([4,5,7,8],variable='y')\n",
    "print(p)\n"
   ]
  },
  {
   "cell_type": "code",
   "execution_count": 15,
   "metadata": {},
   "outputs": [
    {
     "name": "stdout",
     "output_type": "stream",
     "text": [
      "   2\n",
      "3 x + 6 x + 8\n"
     ]
    },
    {
     "data": {
      "text/plain": [
       "array([-1.+1.29099445j, -1.-1.29099445j])"
      ]
     },
     "execution_count": 15,
     "metadata": {},
     "output_type": "execute_result"
    }
   ],
   "source": [
    "\n",
    "p=poly1d([3,6,8])#it will decide the order of polynomial by the \n",
    " #number of constant\n",
    "print(p)\n",
    "np.roots(p)\n"
   ]
  },
  {
   "cell_type": "code",
   "execution_count": 16,
   "metadata": {},
   "outputs": [
    {
     "name": "stdout",
     "output_type": "stream",
     "text": [
      "   3     2\n",
      "4 x + 5 x + 7 x + 8\n",
      "   4         3       2\n",
      "1 x + 1.667 x + 3.5 x + 8 x + 6\n"
     ]
    }
   ],
   "source": [
    "p=poly1d([4,5,7,8])\n",
    "print(p)\n",
    "print(p.integ(k=6))"
   ]
  },
  {
   "cell_type": "code",
   "execution_count": 17,
   "metadata": {},
   "outputs": [
    {
     "name": "stdout",
     "output_type": "stream",
     "text": [
      "    2\n",
      "12 x + 10 x + 7\n"
     ]
    }
   ],
   "source": [
    "print(p.deriv())"
   ]
  },
  {
   "cell_type": "code",
   "execution_count": 18,
   "metadata": {},
   "outputs": [],
   "source": [
    "from scipy import linalg as la"
   ]
  },
  {
   "cell_type": "code",
   "execution_count": 19,
   "metadata": {},
   "outputs": [
    {
     "name": "stdout",
     "output_type": "stream",
     "text": [
      "[[1 2]\n",
      " [3 4]]\n"
     ]
    }
   ],
   "source": [
    "\n",
    "A=np.array([[1,2],[3,4]])\n",
    "print(A)\n"
   ]
  },
  {
   "cell_type": "code",
   "execution_count": 20,
   "metadata": {},
   "outputs": [
    {
     "name": "stdout",
     "output_type": "stream",
     "text": [
      "[[-2.   1. ]\n",
      " [ 1.5 -0.5]]\n"
     ]
    }
   ],
   "source": [
    "\n",
    "b=la.inv(A)#inverse of a matrix\n",
    "print(b)"
   ]
  },
  {
   "cell_type": "code",
   "execution_count": 21,
   "metadata": {},
   "outputs": [
    {
     "name": "stdout",
     "output_type": "stream",
     "text": [
      "-2.0\n"
     ]
    }
   ],
   "source": [
    "\n",
    "x=la.det(A)#determinant of matrix\n",
    "print(x)\n"
   ]
  },
  {
   "cell_type": "code",
   "execution_count": 22,
   "metadata": {},
   "outputs": [
    {
     "name": "stdout",
     "output_type": "stream",
     "text": [
      "[-0.37228132+0.j  5.37228132+0.j]\n",
      "[[-0.82456484 -0.41597356]\n",
      " [ 0.56576746 -0.90937671]]\n"
     ]
    }
   ],
   "source": [
    "\n",
    "#eigen value and eigen vector\n",
    "l,v=la.eig(A)\n",
    "print(l)\n",
    "print(v)"
   ]
  },
  {
   "cell_type": "code",
   "execution_count": 23,
   "metadata": {},
   "outputs": [
    {
     "name": "stdout",
     "output_type": "stream",
     "text": [
      "[[1 2 3]\n",
      " [4 5 6]\n",
      " [7 8 9]]\n"
     ]
    }
   ],
   "source": [
    "\n",
    "B=np.array([[1,2,3],[4,5,6],[7,8,9]])\n",
    "print(B)"
   ]
  },
  {
   "cell_type": "code",
   "execution_count": 24,
   "metadata": {},
   "outputs": [
    {
     "name": "stdout",
     "output_type": "stream",
     "text": [
      "[[0. 1. 0.]\n",
      " [0. 0. 1.]\n",
      " [1. 0. 0.]]\n",
      "[[1.         0.         0.        ]\n",
      " [0.14285714 1.         0.        ]\n",
      " [0.57142857 0.5        1.        ]]\n",
      "[[7.         8.         9.        ]\n",
      " [0.         0.85714286 1.71428571]\n",
      " [0.         0.         0.        ]]\n"
     ]
    }
   ],
   "source": [
    "\n",
    "#LU decomposition\n",
    "#permutation matrix\n",
    "#lower triangular matrix\n",
    "#upper triangular matrix\n",
    "P,L,U=la.lu(B)\n",
    "print(P)\n",
    "print(L)\n",
    "print(U)\n"
   ]
  },
  {
   "cell_type": "code",
   "execution_count": 25,
   "metadata": {},
   "outputs": [
    {
     "name": "stdout",
     "output_type": "stream",
     "text": [
      "[0.875 1.375]\n"
     ]
    }
   ],
   "source": [
    "\n",
    "#Polynomial Solution\n",
    "#3x+y=4\n",
    "#x+3y=5\n",
    "coef=np.array([[3,1],[1,3]])#coefficient of equations\n",
    "const=np.array([4,5])#constant term of equation\n",
    "result=la.solve(coef,const)\n",
    "print(result)\n"
   ]
  },
  {
   "attachments": {},
   "cell_type": "markdown",
   "metadata": {},
   "source": [
    "SCI PY"
   ]
  },
  {
   "cell_type": "code",
   "execution_count": 26,
   "metadata": {},
   "outputs": [],
   "source": [
    "\n",
    "#for mathematical and scintific constants\n",
    "from scipy import constants as con\n"
   ]
  },
  {
   "cell_type": "code",
   "execution_count": 27,
   "metadata": {},
   "outputs": [
    {
     "data": {
      "text/plain": [
       "['Angstrom star',\n",
       " 'Avogadro constant',\n",
       " 'Bohr magneton',\n",
       " 'Bohr magneton in Hz/T',\n",
       " 'Bohr magneton in K/T',\n",
       " 'Bohr magneton in eV/T',\n",
       " 'Bohr magneton in inverse meter per tesla',\n",
       " 'Bohr radius',\n",
       " 'Boltzmann constant',\n",
       " 'Boltzmann constant in Hz/K',\n",
       " 'Boltzmann constant in eV/K',\n",
       " 'Boltzmann constant in inverse meter per kelvin',\n",
       " 'Compton wavelength',\n",
       " 'Cu x unit',\n",
       " 'Faraday constant',\n",
       " 'Fermi coupling constant',\n",
       " 'Hartree energy',\n",
       " 'Hartree energy in eV',\n",
       " 'Josephson constant',\n",
       " 'Loschmidt constant (273.15 K, 100 kPa)',\n",
       " 'Loschmidt constant (273.15 K, 101.325 kPa)',\n",
       " 'Mo x unit',\n",
       " 'Newtonian constant of gravitation',\n",
       " 'Newtonian constant of gravitation over h-bar c',\n",
       " 'Planck constant',\n",
       " 'Planck constant in eV/Hz',\n",
       " 'Planck length',\n",
       " 'Planck mass',\n",
       " 'Planck mass energy equivalent in GeV',\n",
       " 'Planck temperature',\n",
       " 'Planck time',\n",
       " 'Rydberg constant',\n",
       " 'Rydberg constant times c in Hz',\n",
       " 'Rydberg constant times hc in J',\n",
       " 'Rydberg constant times hc in eV',\n",
       " 'Sackur-Tetrode constant (1 K, 100 kPa)',\n",
       " 'Sackur-Tetrode constant (1 K, 101.325 kPa)',\n",
       " 'Stefan-Boltzmann constant',\n",
       " 'Thomson cross section',\n",
       " 'W to Z mass ratio',\n",
       " 'Wien frequency displacement law constant',\n",
       " 'Wien wavelength displacement law constant',\n",
       " 'alpha particle mass',\n",
       " 'alpha particle mass energy equivalent',\n",
       " 'alpha particle mass energy equivalent in MeV',\n",
       " 'alpha particle mass in u',\n",
       " 'alpha particle molar mass',\n",
       " 'alpha particle relative atomic mass',\n",
       " 'alpha particle-electron mass ratio',\n",
       " 'alpha particle-proton mass ratio',\n",
       " 'atomic mass constant',\n",
       " 'atomic mass constant energy equivalent',\n",
       " 'atomic mass constant energy equivalent in MeV',\n",
       " 'atomic mass unit-electron volt relationship',\n",
       " 'atomic mass unit-hartree relationship',\n",
       " 'atomic mass unit-hertz relationship',\n",
       " 'atomic mass unit-inverse meter relationship',\n",
       " 'atomic mass unit-joule relationship',\n",
       " 'atomic mass unit-kelvin relationship',\n",
       " 'atomic mass unit-kilogram relationship',\n",
       " 'atomic unit of 1st hyperpolarizability',\n",
       " 'atomic unit of 2nd hyperpolarizability',\n",
       " 'atomic unit of action',\n",
       " 'atomic unit of charge',\n",
       " 'atomic unit of charge density',\n",
       " 'atomic unit of current',\n",
       " 'atomic unit of electric dipole mom.',\n",
       " 'atomic unit of electric field',\n",
       " 'atomic unit of electric field gradient',\n",
       " 'atomic unit of electric polarizability',\n",
       " 'atomic unit of electric potential',\n",
       " 'atomic unit of electric quadrupole mom.',\n",
       " 'atomic unit of energy',\n",
       " 'atomic unit of force',\n",
       " 'atomic unit of length',\n",
       " 'atomic unit of mag. dipole mom.',\n",
       " 'atomic unit of mag. flux density',\n",
       " 'atomic unit of magnetizability',\n",
       " 'atomic unit of mass',\n",
       " 'atomic unit of momentum',\n",
       " 'atomic unit of permittivity',\n",
       " 'atomic unit of time',\n",
       " 'atomic unit of velocity',\n",
       " 'classical electron radius',\n",
       " 'conductance quantum',\n",
       " 'conventional value of Josephson constant',\n",
       " 'conventional value of ampere-90',\n",
       " 'conventional value of coulomb-90',\n",
       " 'conventional value of farad-90',\n",
       " 'conventional value of henry-90',\n",
       " 'conventional value of ohm-90',\n",
       " 'conventional value of volt-90',\n",
       " 'conventional value of von Klitzing constant',\n",
       " 'conventional value of watt-90',\n",
       " 'deuteron g factor',\n",
       " 'deuteron mag. mom.',\n",
       " 'deuteron mag. mom. to Bohr magneton ratio',\n",
       " 'deuteron mag. mom. to nuclear magneton ratio',\n",
       " 'deuteron mass',\n",
       " 'deuteron mass energy equivalent',\n",
       " 'deuteron mass energy equivalent in MeV',\n",
       " 'deuteron mass in u',\n",
       " 'deuteron molar mass',\n",
       " 'deuteron relative atomic mass',\n",
       " 'deuteron rms charge radius',\n",
       " 'deuteron-electron mag. mom. ratio',\n",
       " 'deuteron-electron mass ratio',\n",
       " 'deuteron-neutron mag. mom. ratio',\n",
       " 'deuteron-proton mag. mom. ratio',\n",
       " 'deuteron-proton mass ratio',\n",
       " 'electron charge to mass quotient',\n",
       " 'electron g factor',\n",
       " 'electron gyromag. ratio',\n",
       " 'electron gyromag. ratio in MHz/T',\n",
       " 'electron mag. mom.',\n",
       " 'electron mag. mom. anomaly',\n",
       " 'electron mag. mom. to Bohr magneton ratio',\n",
       " 'electron mag. mom. to nuclear magneton ratio',\n",
       " 'electron mass',\n",
       " 'electron mass energy equivalent',\n",
       " 'electron mass energy equivalent in MeV',\n",
       " 'electron mass in u',\n",
       " 'electron molar mass',\n",
       " 'electron relative atomic mass',\n",
       " 'electron to alpha particle mass ratio',\n",
       " 'electron to shielded helion mag. mom. ratio',\n",
       " 'electron to shielded proton mag. mom. ratio',\n",
       " 'electron volt',\n",
       " 'electron volt-atomic mass unit relationship',\n",
       " 'electron volt-hartree relationship',\n",
       " 'electron volt-hertz relationship',\n",
       " 'electron volt-inverse meter relationship',\n",
       " 'electron volt-joule relationship',\n",
       " 'electron volt-kelvin relationship',\n",
       " 'electron volt-kilogram relationship',\n",
       " 'electron-deuteron mag. mom. ratio',\n",
       " 'electron-deuteron mass ratio',\n",
       " 'electron-helion mass ratio',\n",
       " 'electron-muon mag. mom. ratio',\n",
       " 'electron-muon mass ratio',\n",
       " 'electron-neutron mag. mom. ratio',\n",
       " 'electron-neutron mass ratio',\n",
       " 'electron-proton mag. mom. ratio',\n",
       " 'electron-proton mass ratio',\n",
       " 'electron-tau mass ratio',\n",
       " 'electron-triton mass ratio',\n",
       " 'elementary charge',\n",
       " 'elementary charge over h-bar',\n",
       " 'fine-structure constant',\n",
       " 'first radiation constant',\n",
       " 'first radiation constant for spectral radiance',\n",
       " 'hartree-atomic mass unit relationship',\n",
       " 'hartree-electron volt relationship',\n",
       " 'hartree-hertz relationship',\n",
       " 'hartree-inverse meter relationship',\n",
       " 'hartree-joule relationship',\n",
       " 'hartree-kelvin relationship',\n",
       " 'hartree-kilogram relationship',\n",
       " 'helion g factor',\n",
       " 'helion mag. mom.',\n",
       " 'helion mag. mom. to Bohr magneton ratio',\n",
       " 'helion mag. mom. to nuclear magneton ratio',\n",
       " 'helion mass',\n",
       " 'helion mass energy equivalent',\n",
       " 'helion mass energy equivalent in MeV',\n",
       " 'helion mass in u',\n",
       " 'helion molar mass',\n",
       " 'helion relative atomic mass',\n",
       " 'helion shielding shift',\n",
       " 'helion-electron mass ratio',\n",
       " 'helion-proton mass ratio',\n",
       " 'hertz-atomic mass unit relationship',\n",
       " 'hertz-electron volt relationship',\n",
       " 'hertz-hartree relationship',\n",
       " 'hertz-inverse meter relationship',\n",
       " 'hertz-joule relationship',\n",
       " 'hertz-kelvin relationship',\n",
       " 'hertz-kilogram relationship',\n",
       " 'hyperfine transition frequency of Cs-133',\n",
       " 'inverse fine-structure constant',\n",
       " 'inverse meter-atomic mass unit relationship',\n",
       " 'inverse meter-electron volt relationship',\n",
       " 'inverse meter-hartree relationship',\n",
       " 'inverse meter-hertz relationship',\n",
       " 'inverse meter-joule relationship',\n",
       " 'inverse meter-kelvin relationship',\n",
       " 'inverse meter-kilogram relationship',\n",
       " 'inverse of conductance quantum',\n",
       " 'joule-atomic mass unit relationship',\n",
       " 'joule-electron volt relationship',\n",
       " 'joule-hartree relationship',\n",
       " 'joule-hertz relationship',\n",
       " 'joule-inverse meter relationship',\n",
       " 'joule-kelvin relationship',\n",
       " 'joule-kilogram relationship',\n",
       " 'kelvin-atomic mass unit relationship',\n",
       " 'kelvin-electron volt relationship',\n",
       " 'kelvin-hartree relationship',\n",
       " 'kelvin-hertz relationship',\n",
       " 'kelvin-inverse meter relationship',\n",
       " 'kelvin-joule relationship',\n",
       " 'kelvin-kilogram relationship',\n",
       " 'kilogram-atomic mass unit relationship',\n",
       " 'kilogram-electron volt relationship',\n",
       " 'kilogram-hartree relationship',\n",
       " 'kilogram-hertz relationship',\n",
       " 'kilogram-inverse meter relationship',\n",
       " 'kilogram-joule relationship',\n",
       " 'kilogram-kelvin relationship',\n",
       " 'lattice parameter of silicon',\n",
       " 'lattice spacing of ideal Si (220)',\n",
       " 'luminous efficacy',\n",
       " 'mag. flux quantum',\n",
       " 'molar Planck constant',\n",
       " 'molar gas constant',\n",
       " 'molar mass constant',\n",
       " 'molar mass of carbon-12',\n",
       " 'molar volume of ideal gas (273.15 K, 100 kPa)',\n",
       " 'molar volume of ideal gas (273.15 K, 101.325 kPa)',\n",
       " 'molar volume of silicon',\n",
       " 'muon Compton wavelength',\n",
       " 'muon g factor',\n",
       " 'muon mag. mom.',\n",
       " 'muon mag. mom. anomaly',\n",
       " 'muon mag. mom. to Bohr magneton ratio',\n",
       " 'muon mag. mom. to nuclear magneton ratio',\n",
       " 'muon mass',\n",
       " 'muon mass energy equivalent',\n",
       " 'muon mass energy equivalent in MeV',\n",
       " 'muon mass in u',\n",
       " 'muon molar mass',\n",
       " 'muon-electron mass ratio',\n",
       " 'muon-neutron mass ratio',\n",
       " 'muon-proton mag. mom. ratio',\n",
       " 'muon-proton mass ratio',\n",
       " 'muon-tau mass ratio',\n",
       " 'natural unit of action',\n",
       " 'natural unit of action in eV s',\n",
       " 'natural unit of energy',\n",
       " 'natural unit of energy in MeV',\n",
       " 'natural unit of length',\n",
       " 'natural unit of mass',\n",
       " 'natural unit of momentum',\n",
       " 'natural unit of momentum in MeV/c',\n",
       " 'natural unit of time',\n",
       " 'natural unit of velocity',\n",
       " 'neutron Compton wavelength',\n",
       " 'neutron g factor',\n",
       " 'neutron gyromag. ratio',\n",
       " 'neutron gyromag. ratio in MHz/T',\n",
       " 'neutron mag. mom.',\n",
       " 'neutron mag. mom. to Bohr magneton ratio',\n",
       " 'neutron mag. mom. to nuclear magneton ratio',\n",
       " 'neutron mass',\n",
       " 'neutron mass energy equivalent',\n",
       " 'neutron mass energy equivalent in MeV',\n",
       " 'neutron mass in u',\n",
       " 'neutron molar mass',\n",
       " 'neutron relative atomic mass',\n",
       " 'neutron to shielded proton mag. mom. ratio',\n",
       " 'neutron-electron mag. mom. ratio',\n",
       " 'neutron-electron mass ratio',\n",
       " 'neutron-muon mass ratio',\n",
       " 'neutron-proton mag. mom. ratio',\n",
       " 'neutron-proton mass difference',\n",
       " 'neutron-proton mass difference energy equivalent',\n",
       " 'neutron-proton mass difference energy equivalent in MeV',\n",
       " 'neutron-proton mass difference in u',\n",
       " 'neutron-proton mass ratio',\n",
       " 'neutron-tau mass ratio',\n",
       " 'nuclear magneton',\n",
       " 'nuclear magneton in K/T',\n",
       " 'nuclear magneton in MHz/T',\n",
       " 'nuclear magneton in eV/T',\n",
       " 'nuclear magneton in inverse meter per tesla',\n",
       " 'proton Compton wavelength',\n",
       " 'proton charge to mass quotient',\n",
       " 'proton g factor',\n",
       " 'proton gyromag. ratio',\n",
       " 'proton gyromag. ratio in MHz/T',\n",
       " 'proton mag. mom.',\n",
       " 'proton mag. mom. to Bohr magneton ratio',\n",
       " 'proton mag. mom. to nuclear magneton ratio',\n",
       " 'proton mag. shielding correction',\n",
       " 'proton mass',\n",
       " 'proton mass energy equivalent',\n",
       " 'proton mass energy equivalent in MeV',\n",
       " 'proton mass in u',\n",
       " 'proton molar mass',\n",
       " 'proton relative atomic mass',\n",
       " 'proton rms charge radius',\n",
       " 'proton-electron mass ratio',\n",
       " 'proton-muon mass ratio',\n",
       " 'proton-neutron mag. mom. ratio',\n",
       " 'proton-neutron mass ratio',\n",
       " 'proton-tau mass ratio',\n",
       " 'quantum of circulation',\n",
       " 'quantum of circulation times 2',\n",
       " 'reduced Compton wavelength',\n",
       " 'reduced Planck constant',\n",
       " 'reduced Planck constant in eV s',\n",
       " 'reduced Planck constant times c in MeV fm',\n",
       " 'reduced muon Compton wavelength',\n",
       " 'reduced neutron Compton wavelength',\n",
       " 'reduced proton Compton wavelength',\n",
       " 'reduced tau Compton wavelength',\n",
       " 'second radiation constant',\n",
       " 'shielded helion gyromag. ratio',\n",
       " 'shielded helion gyromag. ratio in MHz/T',\n",
       " 'shielded helion mag. mom.',\n",
       " 'shielded helion mag. mom. to Bohr magneton ratio',\n",
       " 'shielded helion mag. mom. to nuclear magneton ratio',\n",
       " 'shielded helion to proton mag. mom. ratio',\n",
       " 'shielded helion to shielded proton mag. mom. ratio',\n",
       " 'shielded proton gyromag. ratio',\n",
       " 'shielded proton gyromag. ratio in MHz/T',\n",
       " 'shielded proton mag. mom.',\n",
       " 'shielded proton mag. mom. to Bohr magneton ratio',\n",
       " 'shielded proton mag. mom. to nuclear magneton ratio',\n",
       " 'shielding difference of d and p in HD',\n",
       " 'shielding difference of t and p in HT',\n",
       " 'speed of light in vacuum',\n",
       " 'standard acceleration of gravity',\n",
       " 'standard atmosphere',\n",
       " 'standard-state pressure',\n",
       " 'tau Compton wavelength',\n",
       " 'tau energy equivalent',\n",
       " 'tau mass',\n",
       " 'tau mass energy equivalent',\n",
       " 'tau mass in u',\n",
       " 'tau molar mass',\n",
       " 'tau-electron mass ratio',\n",
       " 'tau-muon mass ratio',\n",
       " 'tau-neutron mass ratio',\n",
       " 'tau-proton mass ratio',\n",
       " 'triton g factor',\n",
       " 'triton mag. mom.',\n",
       " 'triton mag. mom. to Bohr magneton ratio',\n",
       " 'triton mag. mom. to nuclear magneton ratio',\n",
       " 'triton mass',\n",
       " 'triton mass energy equivalent',\n",
       " 'triton mass energy equivalent in MeV',\n",
       " 'triton mass in u',\n",
       " 'triton molar mass',\n",
       " 'triton relative atomic mass',\n",
       " 'triton to proton mag. mom. ratio',\n",
       " 'triton-electron mass ratio',\n",
       " 'triton-proton mass ratio',\n",
       " 'unified atomic mass unit',\n",
       " 'vacuum electric permittivity',\n",
       " 'vacuum mag. permeability',\n",
       " 'von Klitzing constant',\n",
       " 'weak mixing angle']"
      ]
     },
     "execution_count": 27,
     "metadata": {},
     "output_type": "execute_result"
    }
   ],
   "source": [
    "\n",
    "con.find()"
   ]
  },
  {
   "cell_type": "code",
   "execution_count": 28,
   "metadata": {},
   "outputs": [
    {
     "data": {
      "text/plain": [
       "3.141592653589793"
      ]
     },
     "execution_count": 28,
     "metadata": {},
     "output_type": "execute_result"
    }
   ],
   "source": [
    "con.pi\n"
   ]
  },
  {
   "cell_type": "code",
   "execution_count": 29,
   "metadata": {},
   "outputs": [
    {
     "data": {
      "text/plain": [
       "1.6605390666e-27"
      ]
     },
     "execution_count": 29,
     "metadata": {},
     "output_type": "execute_result"
    }
   ],
   "source": [
    "con.u"
   ]
  },
  {
   "cell_type": "code",
   "execution_count": 30,
   "metadata": {},
   "outputs": [
    {
     "data": {
      "text/plain": [
       "1.67492749804e-27"
      ]
     },
     "execution_count": 30,
     "metadata": {},
     "output_type": "execute_result"
    }
   ],
   "source": [
    "con.neutron_mass"
   ]
  },
  {
   "cell_type": "code",
   "execution_count": 31,
   "metadata": {},
   "outputs": [
    {
     "data": {
      "text/plain": [
       "683.0"
      ]
     },
     "execution_count": 31,
     "metadata": {},
     "output_type": "execute_result"
    }
   ],
   "source": [
    "con.value('luminous efficacy')"
   ]
  },
  {
   "cell_type": "code",
   "execution_count": 32,
   "metadata": {},
   "outputs": [
    {
     "data": {
      "text/plain": [
       "6.62607015e-34"
      ]
     },
     "execution_count": 32,
     "metadata": {},
     "output_type": "execute_result"
    }
   ],
   "source": [
    "con.value('Planck constant')"
   ]
  },
  {
   "cell_type": "code",
   "execution_count": 33,
   "metadata": {},
   "outputs": [
    {
     "data": {
      "text/plain": [
       "5.29177210903e-11"
      ]
     },
     "execution_count": 33,
     "metadata": {},
     "output_type": "execute_result"
    }
   ],
   "source": [
    "con.value('Bohr radius')"
   ]
  },
  {
   "cell_type": "code",
   "execution_count": 34,
   "metadata": {},
   "outputs": [
    {
     "data": {
      "text/plain": [
       "96485.33212"
      ]
     },
     "execution_count": 34,
     "metadata": {},
     "output_type": "execute_result"
    }
   ],
   "source": [
    "con.value('Faraday constant')"
   ]
  },
  {
   "cell_type": "code",
   "execution_count": null,
   "metadata": {},
   "outputs": [],
   "source": []
  }
 ],
 "metadata": {
  "kernelspec": {
   "display_name": "Python 3.10.4 64-bit",
   "language": "python",
   "name": "python3"
  },
  "language_info": {
   "codemirror_mode": {
    "name": "ipython",
    "version": 3
   },
   "file_extension": ".py",
   "mimetype": "text/x-python",
   "name": "python",
   "nbconvert_exporter": "python",
   "pygments_lexer": "ipython3",
   "version": "3.10.4"
  },
  "vscode": {
   "interpreter": {
    "hash": "3ad933181bd8a04b432d3370b9dc3b0662ad032c4dfaa4e4f1596c548f763858"
   }
  }
 },
 "nbformat": 4,
 "nbformat_minor": 4
}
